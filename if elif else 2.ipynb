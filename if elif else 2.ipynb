{
 "cells": [
  {
   "cell_type": "markdown",
   "id": "61d97199",
   "metadata": {},
   "source": [
    "Write a program to display “Hello” if a number entered by user is a multiple of five,otherwise print “Bye”."
   ]
  },
  {
   "cell_type": "code",
   "execution_count": 2,
   "id": "a9ed5416",
   "metadata": {},
   "outputs": [
    {
     "name": "stdout",
     "output_type": "stream",
     "text": [
      "Enter a number: 45\n",
      "Hello\n"
     ]
    }
   ],
   "source": [
    "num = int(input(\"Enter a number: \"))\n",
    "\n",
    "if num % 5 == 0:\n",
    "    print(\"Hello\")\n",
    "else:\n",
    "    print(\"Bye\")"
   ]
  },
  {
   "cell_type": "markdown",
   "id": "4e164035",
   "metadata": {},
   "source": [
    "Write a program to check whether the last digit of a number(entered by user) is divisible by 3 or not."
   ]
  },
  {
   "cell_type": "code",
   "execution_count": 5,
   "id": "5ee1cd4b",
   "metadata": {},
   "outputs": [
    {
     "name": "stdout",
     "output_type": "stream",
     "text": [
      "Enter a number: 45\n",
      "The last digit is not divisible by 3.\n"
     ]
    }
   ],
   "source": [
    "num = int(input(\"Enter a number: \"))\n",
    "last_digit = num % 10  # get the last digit of the number\n",
    "\n",
    "if last_digit % 3 == 0:\n",
    "    print(\"The last digit is divisible by 3.\")\n",
    "else:\n",
    "    print(\"The last digit is not divisible by 3.\")"
   ]
  },
  {
   "cell_type": "markdown",
   "id": "effb26ef",
   "metadata": {},
   "source": [
    "Write a program to accept percentage from a user and display the grade according to the following criteria:\n",
    "Marks\n",
    "Grade\n",
    "\">90 A\"\n",
    "\">80 and <=90 B\"\n",
    "\">=60 and <=80 C\"\n",
    "\"Below 60 D\""
   ]
  },
  {
   "cell_type": "code",
   "execution_count": 6,
   "id": "da9935b5",
   "metadata": {},
   "outputs": [
    {
     "name": "stdout",
     "output_type": "stream",
     "text": [
      "Enter Marks:45\n",
      "D\n"
     ]
    }
   ],
   "source": [
    "marks= int(input(\"Enter Marks:\"))\n",
    "if marks>90:\n",
    "    print(\"A\")\n",
    "elif marks>80 and marks<=90:\n",
    "    print(\"B\")\n",
    "elif marks>=60 and marks<=80:\n",
    "    print(\"C\")\n",
    "else:\n",
    "    print(\"D\")"
   ]
  },
  {
   "cell_type": "markdown",
   "id": "498658e9",
   "metadata": {},
   "source": [
    "Write a program to accept the cost price of a bike and display the road tax to be paid according to the following criteria:"
   ]
  },
  {
   "cell_type": "code",
   "execution_count": 7,
   "id": "c7a76afd",
   "metadata": {},
   "outputs": [
    {
     "name": "stdout",
     "output_type": "stream",
     "text": [
      "Enter price of bike50000\n",
      "Tax amount is 2500.0\n"
     ]
    }
   ],
   "source": [
    "cost_price=float(input(\"Enter price of bike\"))\n",
    "if cost_price > 100000:\n",
    "    print(f\"ax amount is {cost_price*(0.15)}\")\n",
    "elif cost_price>50000 and cost_price <=100000:\n",
    "    print(f\"amount is {cost_price *(0.1)}\")\n",
    "else:\n",
    "    print(f\"Tax amount is {cost_price*(0.05)}\")"
   ]
  },
  {
   "cell_type": "markdown",
   "id": "9aaf49d9",
   "metadata": {},
   "source": [
    "Write a program to accept a number from 1 to 7 and display the name of the day like 1 for Sunday ,2 for Monday and so on."
   ]
  },
  {
   "cell_type": "code",
   "execution_count": 8,
   "id": "f161aa96",
   "metadata": {},
   "outputs": [
    {
     "name": "stdout",
     "output_type": "stream",
     "text": [
      "Enter a number from 1 to 7: 4\n",
      "Wednesday\n"
     ]
    }
   ],
   "source": [
    "num = int(input(\"Enter a number from 1 to 7: \"))\n",
    "\n",
    "if num == 1:\n",
    "    print(\"Sunday\")\n",
    "elif num == 2:\n",
    "    print(\"Monday\")\n",
    "elif num == 3:\n",
    "    print(\"Tuesday\")\n",
    "elif num == 4:\n",
    "    print(\"Wednesday\")\n",
    "elif num == 5:\n",
    "    print(\"Thursday\")\n",
    "elif num == 6:\n",
    "    print(\"Friday\")\n",
    "elif num == 7:\n",
    "    print(\"Saturday\")\n",
    "else:\n",
    "    print(\"Invalid input. Please enter a number from 1 to 7.\")"
   ]
  },
  {
   "cell_type": "code",
   "execution_count": 11,
   "id": "fa754cfd",
   "metadata": {},
   "outputs": [
    {
     "name": "stdout",
     "output_type": "stream",
     "text": [
      "Enter a number from 1 to 7: 4\n",
      "Day of the week: Wednesday\n"
     ]
    }
   ],
   "source": [
    "# Using for\n",
    "days = ['Sunday', 'Monday', 'Tuesday', 'Wednesday', 'Thursday', 'Friday', 'Saturday']\n",
    "\n",
    "num = int(input(\"Enter a number from 1 to 7: \"))\n",
    "\n",
    "for i in range(1, 8):\n",
    "    if num == i:\n",
    "        print(\"Day of the week:\", days[i-1])"
   ]
  },
  {
   "cell_type": "code",
   "execution_count": null,
   "id": "059612bb",
   "metadata": {},
   "outputs": [],
   "source": []
  }
 ],
 "metadata": {
  "kernelspec": {
   "display_name": "Python 3 (ipykernel)",
   "language": "python",
   "name": "python3"
  },
  "language_info": {
   "codemirror_mode": {
    "name": "ipython",
    "version": 3
   },
   "file_extension": ".py",
   "mimetype": "text/x-python",
   "name": "python",
   "nbconvert_exporter": "python",
   "pygments_lexer": "ipython3",
   "version": "3.10.9"
  }
 },
 "nbformat": 4,
 "nbformat_minor": 5
}
