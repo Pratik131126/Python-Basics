{
 "cells": [
  {
   "cell_type": "code",
   "execution_count": 1,
   "id": "2c6d6e5d",
   "metadata": {},
   "outputs": [],
   "source": [
    "a=10\n"
   ]
  },
  {
   "cell_type": "code",
   "execution_count": 2,
   "id": "45d265a8",
   "metadata": {},
   "outputs": [
    {
     "data": {
      "text/plain": [
       "int"
      ]
     },
     "execution_count": 2,
     "metadata": {},
     "output_type": "execute_result"
    }
   ],
   "source": [
    "type(a)"
   ]
  },
  {
   "cell_type": "code",
   "execution_count": 3,
   "id": "8d18142b",
   "metadata": {},
   "outputs": [],
   "source": [
    "##Task\n",
    "## Take a input of age\n",
    "## check whether age >=18 and age<=45\n",
    "## display a message you are young blood"
   ]
  },
  {
   "cell_type": "code",
   "execution_count": 6,
   "id": "d12e5396",
   "metadata": {},
   "outputs": [
    {
     "name": "stdout",
     "output_type": "stream",
     "text": [
      "Enter Age:45\n",
      "young blood\n"
     ]
    }
   ],
   "source": [
    "age=int(input(\"Enter Age:\"))\n",
    "if age>=18 and age<=45:\n",
    "    print(\"young blood\")"
   ]
  },
  {
   "cell_type": "code",
   "execution_count": 7,
   "id": "68d8f8ee",
   "metadata": {},
   "outputs": [],
   "source": [
    "## mall - input the product price\n",
    "## product >1000 rs 20% off\n",
    "## print the product price after removing the discount\n",
    "## product <=1000 rs 30% off\n",
    "## print the product price after removing the discount"
   ]
  },
  {
   "cell_type": "code",
   "execution_count": 17,
   "id": "fc78268e",
   "metadata": {},
   "outputs": [
    {
     "name": "stdout",
     "output_type": "stream",
     "text": [
      "Product Price is:1200\n",
      "Your discount is 20%\n",
      "your final price is  960.0\n"
     ]
    }
   ],
   "source": [
    "price=int(input(\"Product Price is:\"))\n",
    "if price > 1000:\n",
    "    print(\"Your discount is 20%\")\n",
    "    price= price-(price*(20/100))\n",
    "    print(f\"your final price is \",price)\n",
    "else:\n",
    "    print(\"Your discount is 30%\")\n",
    "    print(price=price-(price*(30/100)))\n"
   ]
  },
  {
   "cell_type": "code",
   "execution_count": 47,
   "id": "bc4b9ad5",
   "metadata": {},
   "outputs": [
    {
     "name": "stdout",
     "output_type": "stream",
     "text": [
      "Product Price is:12000\n",
      " Your price is 9600.0\n"
     ]
    }
   ],
   "source": [
    "price=int(input(\"Product Price is:\"))\n",
    "if price > 1000:\n",
    "    print(f\" Your price is {price-(price*(0.2))}\")\n",
    "else:\n",
    "    print(f\" Your price is {price-(price*(0.3))}\")\n",
    "  \n"
   ]
  },
  {
   "cell_type": "code",
   "execution_count": 25,
   "id": "80af092a",
   "metadata": {},
   "outputs": [
    {
     "ename": "NameError",
     "evalue": "name 'version' is not defined",
     "output_type": "error",
     "traceback": [
      "\u001b[1;31m---------------------------------------------------------------------------\u001b[0m",
      "\u001b[1;31mNameError\u001b[0m                                 Traceback (most recent call last)",
      "Cell \u001b[1;32mIn[25], line 1\u001b[0m\n\u001b[1;32m----> 1\u001b[0m \u001b[43mversion\u001b[49m()\n",
      "\u001b[1;31mNameError\u001b[0m: name 'version' is not defined"
     ]
    }
   ],
   "source": [
    "version()"
   ]
  },
  {
   "cell_type": "code",
   "execution_count": 26,
   "id": "13661ef3",
   "metadata": {},
   "outputs": [
    {
     "name": "stdout",
     "output_type": "stream",
     "text": [
      "\n",
      "Welcome to Python 3.10's help utility!\n",
      "\n",
      "If this is your first time using Python, you should definitely check out\n",
      "the tutorial on the internet at https://docs.python.org/3.10/tutorial/.\n",
      "\n",
      "Enter the name of any module, keyword, or topic to get help on writing\n",
      "Python programs and using Python modules.  To quit this help utility and\n",
      "return to the interpreter, just type \"quit\".\n",
      "\n",
      "To get a list of available modules, keywords, symbols, or topics, type\n",
      "\"modules\", \"keywords\", \"symbols\", or \"topics\".  Each module also comes\n",
      "with a one-line summary of what it does; to list the modules whose name\n",
      "or summary contain a given string such as \"spam\", type \"modules spam\".\n",
      "\n",
      "\n",
      "You are now leaving help and returning to the Python interpreter.\n",
      "If you want to ask for help on a particular object directly from the\n",
      "interpreter, you can type \"help(object)\".  Executing \"help('string')\"\n",
      "has the same effect as typing a particular string at the help> prompt.\n"
     ]
    }
   ],
   "source": [
    "help()"
   ]
  },
  {
   "cell_type": "code",
   "execution_count": 27,
   "id": "b9341c05",
   "metadata": {},
   "outputs": [
    {
     "ename": "NameError",
     "evalue": "name 'version' is not defined",
     "output_type": "error",
     "traceback": [
      "\u001b[1;31m---------------------------------------------------------------------------\u001b[0m",
      "\u001b[1;31mNameError\u001b[0m                                 Traceback (most recent call last)",
      "Cell \u001b[1;32mIn[27], line 1\u001b[0m\n\u001b[1;32m----> 1\u001b[0m help(\u001b[43mversion\u001b[49m)\n",
      "\u001b[1;31mNameError\u001b[0m: name 'version' is not defined"
     ]
    }
   ],
   "source": [
    "help(version)"
   ]
  },
  {
   "cell_type": "code",
   "execution_count": 29,
   "id": "1e50918b",
   "metadata": {},
   "outputs": [
    {
     "ename": "NameError",
     "evalue": "name 'sys' is not defined",
     "output_type": "error",
     "traceback": [
      "\u001b[1;31m---------------------------------------------------------------------------\u001b[0m",
      "\u001b[1;31mNameError\u001b[0m                                 Traceback (most recent call last)",
      "Cell \u001b[1;32mIn[29], line 1\u001b[0m\n\u001b[1;32m----> 1\u001b[0m \u001b[43msys\u001b[49m\u001b[38;5;241m.\u001b[39mversion\n",
      "\u001b[1;31mNameError\u001b[0m: name 'sys' is not defined"
     ]
    }
   ],
   "source": [
    "sys.version\n"
   ]
  },
  {
   "cell_type": "code",
   "execution_count": 30,
   "id": "6492c523",
   "metadata": {},
   "outputs": [
    {
     "name": "stdout",
     "output_type": "stream",
     "text": [
      "3.10.9 | packaged by Anaconda, Inc. | (main, Mar  1 2023, 18:18:15) [MSC v.1916 64 bit (AMD64)]\n"
     ]
    }
   ],
   "source": [
    "import sys\n",
    "print(sys.version)"
   ]
  },
  {
   "cell_type": "code",
   "execution_count": 42,
   "id": "55c97011",
   "metadata": {},
   "outputs": [
    {
     "name": "stdout",
     "output_type": "stream",
     "text": [
      "Enter Marks:95\n",
      "A\n"
     ]
    }
   ],
   "source": [
    "# Printing of grade based on marks entered\n",
    "marks= int(input(\"Enter Marks:\"))\n",
    "if marks>90:\n",
    "    print(\"A\")\n",
    "elif marks>80 and marks<=90:\n",
    "    print(\"B\")\n",
    "elif marks>=60 and marks<=80:\n",
    "    print(\"C\")\n",
    "else:\n",
    "    print(\"D\")"
   ]
  },
  {
   "cell_type": "code",
   "execution_count": 49,
   "id": "9f5364f4",
   "metadata": {},
   "outputs": [
    {
     "name": "stdout",
     "output_type": "stream",
     "text": [
      "Enter price of bike100000\n",
      "amount is 10000.0\n"
     ]
    }
   ],
   "source": [
    "# Computing tax amount based on cost price of bike\n",
    "cost_price=float(input(\"Enter price of bike\"))\n",
    "if cost_price > 100000:\n",
    "    print(f\"ax amount is {cost_price*(0.15)}\")\n",
    "elif cost_price>50000 and cost_price <=100000:\n",
    "    print(f\"amount is {cost_price *(0.1)}\")\n",
    "else:\n",
    "    print(f\"Tax amount is {cost_price*(0.05)}\")"
   ]
  },
  {
   "cell_type": "code",
   "execution_count": 65,
   "id": "a876d2b0",
   "metadata": {},
   "outputs": [
    {
     "ename": "IndentationError",
     "evalue": "unexpected indent (2857467340.py, line 4)",
     "output_type": "error",
     "traceback": [
      "\u001b[1;36m  Cell \u001b[1;32mIn[65], line 4\u001b[1;36m\u001b[0m\n\u001b[1;33m    Wrong city else\u001b[0m\n\u001b[1;37m    ^\u001b[0m\n\u001b[1;31mIndentationError\u001b[0m\u001b[1;31m:\u001b[0m unexpected indent\n"
     ]
    }
   ],
   "source": [
    "#Print monument Redfort if input city is Delhi\n",
    "#                 Taj for Agra\n",
    "#                 Jal mahal for Jaipur\n",
    "#                 Wrong city else\n",
    "city=input(\"select City:\")\n",
    "if city==\"Delhi\":\n",
    "    print(\"RedFort\")\n",
    "elif city=='Agra' or city=='agra':\n",
    "    print(\"Taj\")\n",
    "elif city==\"Jaipur\":\n",
    "    print(\"jalmahal\")\n",
    "else:\n",
    "    print(\"Wrong city\")\n"
   ]
  },
  {
   "cell_type": "code",
   "execution_count": null,
   "id": "efd637fe",
   "metadata": {},
   "outputs": [],
   "source": []
  },
  {
   "cell_type": "code",
   "execution_count": null,
   "id": "888bb6a4",
   "metadata": {},
   "outputs": [],
   "source": []
  }
 ],
 "metadata": {
  "kernelspec": {
   "display_name": "Python 3 (ipykernel)",
   "language": "python",
   "name": "python3"
  },
  "language_info": {
   "codemirror_mode": {
    "name": "ipython",
    "version": 3
   },
   "file_extension": ".py",
   "mimetype": "text/x-python",
   "name": "python",
   "nbconvert_exporter": "python",
   "pygments_lexer": "ipython3",
   "version": "3.10.9"
  }
 },
 "nbformat": 4,
 "nbformat_minor": 5
}
